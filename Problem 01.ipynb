{
 "cells": [
  {
   "cell_type": "markdown",
   "id": "f854d838-b5c7-448f-a7c8-399f78241aad",
   "metadata": {},
   "source": [
    "### Problem 01 - Multiples of 3 or 5\n",
    "\n",
    "If we list all the natural numbers below 10 that are multiples of 3 or 5, we get 3, 5, 6 and 9. The sum of these multiples is 23.\n",
    "\n",
    "Find the sum of all the multiples of 3 or 5 below 1000."
   ]
  },
  {
   "cell_type": "code",
   "execution_count": 4,
   "id": "2afd0c12-df65-4d28-8df7-d35cf81fea18",
   "metadata": {},
   "outputs": [
    {
     "name": "stdout",
     "output_type": "stream",
     "text": [
      "The sum of all the multiples of 3 or 5 below 1000 is: 233168\n"
     ]
    }
   ],
   "source": [
    "l = list()\n",
    "\n",
    "for number in range(1000):\n",
    "    if number%3 == 0:\n",
    "        l.append(number)\n",
    "    else:\n",
    "        if number%5 == 0:\n",
    "            l.append(number)\n",
    "s = sum(l)\n",
    "\n",
    "print(\"The sum of all the multiples of 3 or 5 below 1000 is:\", s)"
   ]
  }
 ],
 "metadata": {
  "kernelspec": {
   "display_name": "Python 3",
   "language": "python",
   "name": "python3"
  },
  "language_info": {
   "codemirror_mode": {
    "name": "ipython",
    "version": 3
   },
   "file_extension": ".py",
   "mimetype": "text/x-python",
   "name": "python",
   "nbconvert_exporter": "python",
   "pygments_lexer": "ipython3",
   "version": "3.9.5"
  }
 },
 "nbformat": 4,
 "nbformat_minor": 5
}
